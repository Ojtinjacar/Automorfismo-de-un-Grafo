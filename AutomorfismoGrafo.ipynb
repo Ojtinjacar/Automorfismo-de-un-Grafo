{
  "nbformat": 4,
  "nbformat_minor": 0,
  "metadata": {
    "kernelspec": {
      "name": "python3",
      "language": "python",
      "display_name": "Python 3"
    },
    "language_info": {
      "codemirror_mode": {
        "name": "ipython",
        "version": 3
      },
      "file_extension": ".py",
      "mimetype": "text/x-python",
      "name": "python",
      "nbconvert_exporter": "python",
      "pygments_lexer": "ipython3",
      "version": "3.7.6"
    },
    "colab": {
      "name": "AutomorfismoGrafo.ipynb",
      "provenance": []
    }
  },
  "cells": [
    {
      "cell_type": "markdown",
      "metadata": {
        "collapsed": false,
        "pycharm": {
          "name": "#%% md\n"
        },
        "id": "twBg_UXa24xh",
        "colab_type": "text"
      },
      "source": [
        "Definición.\n",
        "\n",
        " El conjunto de isomorfismos de un gráfo T = (V,E) a sí mismo se llama el grupo de automorfismo de T. Denominamos a este conjunto de mapeos por Aut(T).\n",
        "\n",
        " Ingresa cuantos vertices tendrá el grafo:"
      ]
    },
    {
      "cell_type": "code",
      "metadata": {
        "id": "eO-hGJiA24xk",
        "colab_type": "code",
        "colab": {
          "base_uri": "https://localhost:8080/",
          "height": 34
        },
        "outputId": "b4bb38a5-ef26-4daa-d66a-f6d4ac07858a"
      },
      "source": [
        "import collections\n",
        "v = input(\"Numero de Vertices\")"
      ],
      "execution_count": 1,
      "outputs": [
        {
          "output_type": "stream",
          "text": [
            "Numero de Vertices7\n"
          ],
          "name": "stdout"
        }
      ]
    },
    {
      "cell_type": "markdown",
      "metadata": {
        "collapsed": false,
        "pycharm": {
          "name": "#%% md\n"
        },
        "id": "GahMuDa724xu",
        "colab_type": "text"
      },
      "source": [
        "Ingrese los vertices del grafo:"
      ]
    },
    {
      "cell_type": "code",
      "metadata": {
        "id": "7Hs1Hc7S24xv",
        "colab_type": "code",
        "colab": {
          "base_uri": "https://localhost:8080/",
          "height": 136
        },
        "outputId": "254093ca-db0a-4d1c-8532-1a5138d3b21b"
      },
      "source": [
        "arrayvertices = []\n",
        "for b in range(int(v)):\n",
        "    c = input(\"Vertice #\" + str(b+1))\n",
        "    arrayvertices.append(c)"
      ],
      "execution_count": 2,
      "outputs": [
        {
          "output_type": "stream",
          "text": [
            "Vertice #11\n",
            "Vertice #22\n",
            "Vertice #33\n",
            "Vertice #44\n",
            "Vertice #55\n",
            "Vertice #66\n",
            "Vertice #77\n"
          ],
          "name": "stdout"
        }
      ]
    },
    {
      "cell_type": "markdown",
      "metadata": {
        "pycharm": {
          "name": "#%% md\n"
        },
        "id": "uSN74oke24x4",
        "colab_type": "text"
      },
      "source": [
        "Ingrese cuantas conexiones tendrá el grafo"
      ]
    },
    {
      "cell_type": "code",
      "metadata": {
        "pycharm": {
          "name": "#%%\n"
        },
        "id": "4a3ojAjj24x6",
        "colab_type": "code",
        "colab": {
          "base_uri": "https://localhost:8080/",
          "height": 34
        },
        "outputId": "212af949-c335-4499-dac2-4cecffc28a38"
      },
      "source": [
        "a = input(\"Ingrese número de aristas\")"
      ],
      "execution_count": 3,
      "outputs": [
        {
          "output_type": "stream",
          "text": [
            "Ingrese número de aristas7\n"
          ],
          "name": "stdout"
        }
      ]
    },
    {
      "cell_type": "markdown",
      "metadata": {
        "pycharm": {
          "name": "#%% md\n"
        },
        "id": "vDs6yED024yD",
        "colab_type": "text"
      },
      "source": [
        "Ingrese los vertices para crear la arista"
      ]
    },
    {
      "cell_type": "code",
      "metadata": {
        "pycharm": {
          "name": "#%%\n"
        },
        "id": "TgtmFfqR24yF",
        "colab_type": "code",
        "colab": {
          "base_uri": "https://localhost:8080/",
          "height": 255
        },
        "outputId": "32eb18f8-6207-46ee-df86-81e51f8f185a"
      },
      "source": [
        "arrayaristas = {}\n",
        "for b in range(int(a)):\n",
        "    a1 = input(\"Vertice A\")\n",
        "    a2 = input(\"Vertice B\")\n",
        "    tupla = (a1,a2)\n",
        "    r1 = sorted(tupla,reverse=False)\n",
        "    tuplar1 = (r1[0],r1[1])\n",
        "    arrayaristas.setdefault(int(r1[0]+r1[1]),tuplar1)\n"
      ],
      "execution_count": 4,
      "outputs": [
        {
          "output_type": "stream",
          "text": [
            "Vertice A1\n",
            "Vertice B2\n",
            "Vertice A1\n",
            "Vertice B3\n",
            "Vertice A2\n",
            "Vertice B3\n",
            "Vertice A3\n",
            "Vertice B4\n",
            "Vertice A4\n",
            "Vertice B5\n",
            "Vertice A4\n",
            "Vertice B6\n",
            "Vertice A5\n",
            "Vertice B6\n"
          ],
          "name": "stdout"
        }
      ]
    },
    {
      "cell_type": "markdown",
      "metadata": {
        "collapsed": false,
        "pycharm": {
          "name": "#%% md\n"
        },
        "id": "GgBbAegm24yN",
        "colab_type": "text"
      },
      "source": [
        "Una vez tenemos el arreglo con los vertices y el arreglo con las aristas se realizará la permutación de los vertices del grafo"
      ]
    },
    {
      "cell_type": "code",
      "metadata": {
        "id": "srwKc6Di24yP",
        "colab_type": "code",
        "colab": {}
      },
      "source": [
        "arrayaristas2 = collections.OrderedDict(sorted(arrayaristas.items()))\n",
        "def Permutar(Vertices):\n",
        "       if len(Vertices) == 0:\n",
        "           return ['']\n",
        "       ListaPrevia = Permutar(Vertices[1:len(Vertices)])\n",
        "       Resultado = []\n",
        "       for i in range(0,len(ListaPrevia)):\n",
        "           for j in range(0,len(Vertices)):\n",
        "               newString = ListaPrevia[i][0:j]+Vertices[0]+ListaPrevia[i][j:len(Vertices)-1]\n",
        "               if newString not in Resultado:\n",
        "                   Resultado.append(newString)\n",
        "       return Resultado\n",
        "Permutaciones = Permutar(arrayvertices)\n",
        "def CompararCadenas(Original, Permuta):\n",
        "    Newarray = []\n",
        "    for a in Permuta:\n",
        "        Newarray.append(a)\n",
        "    Diccionario = {}\n",
        "    for a in range(len(Original)):\n",
        "        Diccionario.setdefault(Original[a], Permuta[a])\n",
        "    tuplaciclo = []\n",
        "    for b in Diccionario:\n",
        "        if Diccionario.get(b) != b:\n",
        "            if DiccionarioFlag.get(b) != True:\n",
        "                tuplaciclo.append(b)\n",
        "                DiccionarioAux = {b: True}\n",
        "                DiccionarioFlag.update(DiccionarioAux)\n",
        "                recorridoPermuta(Diccionario, Diccionario.get(b),tuplaciclo)\n",
        "                tuplaciclo = []\n",
        "    return Diccionario\n",
        "def recorridoPermuta(Diccionario, Valor,TuplaFinal):\n",
        "    if Diccionario.get(Valor) != Valor:\n",
        "        if DiccionarioFlag.get(Valor) != True:\n",
        "            TuplaFinal.append(Valor)\n",
        "            DiccionarioAux = {Valor: True}\n",
        "            DiccionarioFlag.update(DiccionarioAux)\n",
        "            recorridoPermuta(Diccionario, Diccionario.get(Valor),TuplaFinal)\n",
        "        else:\n",
        "            arryfinal.append(TuplaFinal)\n",
        "\n",
        "def DefinirAutomorfismo(Diccionario2):\n",
        "    newDiccionario = {}\n",
        "    for a in arrayaristas2:\n",
        "        Tupla = arrayaristas.get(a)\n",
        "        Pos1 = Diccionario2.get(Tupla[0])\n",
        "        Pos2 = Diccionario2.get(Tupla[1])\n",
        "\n",
        "        TuplaFinal = (Pos1,Pos2)\n",
        "        r = sorted(TuplaFinal,reverse=False)\n",
        "        tuplar = (r[0],r[1])\n",
        "        newDiccionario.setdefault(int(r[0]+r[1]),tuplar)\n",
        "    if newDiccionario == arrayaristas2:\n",
        "        return 1\n",
        "    else:\n",
        "        return 0"
      ],
      "execution_count": 5,
      "outputs": []
    },
    {
      "cell_type": "markdown",
      "metadata": {
        "collapsed": false,
        "pycharm": {
          "name": "#%% md\n"
        },
        "id": "kVsvErBr24yZ",
        "colab_type": "text"
      },
      "source": [
        "El grupo de automorfismo del grafo T1 es:"
      ]
    },
    {
      "cell_type": "code",
      "metadata": {
        "pycharm": {
          "name": "#%%\n"
        },
        "id": "WZhOJrgu24yb",
        "colab_type": "code",
        "colab": {
          "base_uri": "https://localhost:8080/",
          "height": 153
        },
        "outputId": "f2e17b05-9fb4-43c1-90b6-68142ccc59ff"
      },
      "source": [
        "for c in Permutaciones:\n",
        "    DiccionarioFlag = {}\n",
        "    for a in arrayvertices:\n",
        "        DiccionarioFlag.setdefault(a, False)\n",
        "    tuplaciclo = []\n",
        "    arryfinal = []\n",
        "    b = CompararCadenas(arrayvertices, c)\n",
        "    t = DefinirAutomorfismo(b)\n",
        "    if t == 1:\n",
        "        if len(arryfinal)==0:\n",
        "            arryfinal.append(\"e\")\n",
        "        print(arryfinal)\n"
      ],
      "execution_count": 6,
      "outputs": [
        {
          "output_type": "stream",
          "text": [
            "['e']\n",
            "[['1', '2']]\n",
            "[['1', '5'], ['2', '6'], ['3', '4']]\n",
            "[['1', '5', '2', '6'], ['3', '4']]\n",
            "[['5', '6']]\n",
            "[['1', '2'], ['5', '6']]\n",
            "[['1', '6', '2', '5'], ['3', '4']]\n",
            "[['1', '6'], ['2', '5'], ['3', '4']]\n"
          ],
          "name": "stdout"
        }
      ]
    },
    {
      "cell_type": "markdown",
      "metadata": {
        "id": "83l9TlMi3Rzh",
        "colab_type": "text"
      },
      "source": [
        "Explicación del código:\n",
        "\n",
        "El objetivo es qué, una vez tenemos los vertices, estos realizan la permutación, puesto que según la teoría del libro se debe realizar.\n",
        "\n",
        "Posteriormente, con cada permutación, se compara con la cadena de vertices original:\n",
        "\n",
        "Ej:\n",
        "\n",
        "$[1,2,3,4,5,6]$\n",
        "\n",
        "$[2,3,4,5,6,1]$\n",
        "\n",
        "Ahora bien, una vez tenemos ese par de arreglos, realizamos la comparación y reemplazamos los valores del segundo arreglo en la lista de aristas.\n",
        "\n",
        "Ej: \n",
        "\n",
        "$[1,2] ---> [2,3]$\n",
        "\n",
        "$[2,3] ---> [3,4]$\n",
        "\n",
        "$[1,3] ---> [2,4]$\n",
        "\n",
        "$[3,4] --->[4,5]$\n",
        "\n",
        "$[4,5] --->[5,6]$\n",
        "\n",
        "$[4,6] --->[5,1]$\n",
        "\n",
        "$[5,6] --->[6,1]$\n",
        "\n",
        "Para comprobar si es un grupo de automorfismo, verificamos las nuevas aristas después de la permutación y su respectivo reemplazo.\n",
        "\n",
        "En este caso, encontramos que el nuevo grupo de aristas no es igual al original, por ende, esta lista de aristas no diseñan un grafo isomorfo con el grafo inicial.\n"
      ]
    },
    {
      "cell_type": "code",
      "metadata": {
        "id": "JjYq-VKc3TwK",
        "colab_type": "code",
        "colab": {}
      },
      "source": [
        ""
      ],
      "execution_count": null,
      "outputs": []
    }
  ]
}
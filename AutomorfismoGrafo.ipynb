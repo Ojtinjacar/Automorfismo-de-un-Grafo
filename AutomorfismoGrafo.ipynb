{
 "cells": [
  {
   "cell_type": "markdown",
   "source": [
    "Definición.\n",
    "\n",
    " El conjunto de isomorfismos de un gráfo T = (V,E) a sí mismo se llama el grupo de automorfismo de T. Denominamos a este conjunto de mapeos por Aut(T).\n",
    "\n",
    " Ingresa cuantos vertices tendrá el grafo:"
   ],
   "metadata": {
    "collapsed": false,
    "pycharm": {
     "name": "#%% md\n"
    }
   }
  },
  {
   "cell_type": "code",
   "execution_count": 89,
   "metadata": {},
   "outputs": [],
   "source": [
    "import collections\n",
    "v = input(\"Numero de Vertices\")"
   ]
  },
  {
   "cell_type": "markdown",
   "source": [
    "Ingrese los vertices del grafo:"
   ],
   "metadata": {
    "collapsed": false,
    "pycharm": {
     "name": "#%% md\n"
    }
   }
  },
  {
   "cell_type": "code",
   "execution_count": 90,
   "metadata": {},
   "outputs": [],
   "source": [
    "arrayvertices = []\n",
    "for b in range(int(v)):\n",
    "    c = input(\"Vertice #\" + str(b+1))\n",
    "    arrayvertices.append(c)"
   ]
  },
  {
   "cell_type": "markdown",
   "metadata": {
    "pycharm": {
     "name": "#%% md\n"
    }
   },
   "source": [
    "Ingrese cuantas conexiones tendrá el grafo"
   ]
  },
  {
   "cell_type": "code",
   "execution_count": 91,
   "outputs": [],
   "source": [
    "a = input(\"Ingrese número de aristas\")"
   ],
   "metadata": {
    "collapsed": false,
    "pycharm": {
     "name": "#%%\n"
    }
   }
  },
  {
   "cell_type": "markdown",
   "metadata": {
    "pycharm": {
     "name": "#%% md\n"
    }
   },
   "source": [
    "Ingrese los vertices para crear la arista"
   ]
  },
  {
   "cell_type": "code",
   "execution_count": 92,
   "outputs": [],
   "source": [
    "arrayaristas = {}\n",
    "for b in range(int(a)):\n",
    "    a1 = input(\"Vertice A\")\n",
    "    a2 = input(\"Vertice B\")\n",
    "    tupla = (a1,a2)\n",
    "    r1 = sorted(tupla,reverse=False)\n",
    "    tuplar1 = (r1[0],r1[1])\n",
    "    arrayaristas.setdefault(int(r1[0]+r1[1]),tuplar1)\n"
   ],
   "metadata": {
    "collapsed": false,
    "pycharm": {
     "name": "#%%\n"
    }
   }
  },
  {
   "cell_type": "markdown",
   "source": [
    "Una vez tenemos el arreglo con los vertices y el arreglo con las aristas se realizará la permutación de los vertices del grafo"
   ],
   "metadata": {
    "collapsed": false,
    "pycharm": {
     "name": "#%% md\n"
    }
   }
  },
  {
   "cell_type": "code",
   "execution_count": 93,
   "metadata": {},
   "outputs": [],
   "source": [
    "arrayaristas2 = collections.OrderedDict(sorted(arrayaristas.items()))\n",
    "def Permutar(Vertices):\n",
    "       if len(Vertices) == 0:\n",
    "           return ['']\n",
    "       ListaPrevia = Permutar(Vertices[1:len(Vertices)])\n",
    "       Resultado = []\n",
    "       for i in range(0,len(ListaPrevia)):\n",
    "           for j in range(0,len(Vertices)):\n",
    "               newString = ListaPrevia[i][0:j]+Vertices[0]+ListaPrevia[i][j:len(Vertices)-1]\n",
    "               if newString not in Resultado:\n",
    "                   Resultado.append(newString)\n",
    "       return Resultado\n",
    "Permutaciones = Permutar(arrayvertices)\n",
    "def CompararCadenas(Original, Permuta):\n",
    "    Newarray = []\n",
    "    for a in Permuta:\n",
    "        Newarray.append(a)\n",
    "    Diccionario = {}\n",
    "    for a in range(len(Original)):\n",
    "        Diccionario.setdefault(Original[a], Permuta[a])\n",
    "    tuplaciclo = []\n",
    "    for b in Diccionario:\n",
    "        if Diccionario.get(b) != b:\n",
    "            if DiccionarioFlag.get(b) != True:\n",
    "                tuplaciclo.append(b)\n",
    "                DiccionarioAux = {b: True}\n",
    "                DiccionarioFlag.update(DiccionarioAux)\n",
    "                recorridoPermuta(Diccionario, Diccionario.get(b),tuplaciclo)\n",
    "                tuplaciclo = []\n",
    "    return Diccionario\n",
    "def recorridoPermuta(Diccionario, Valor,TuplaFinal):\n",
    "    if Diccionario.get(Valor) != Valor:\n",
    "        if DiccionarioFlag.get(Valor) != True:\n",
    "            TuplaFinal.append(Valor)\n",
    "            DiccionarioAux = {Valor: True}\n",
    "            DiccionarioFlag.update(DiccionarioAux)\n",
    "            recorridoPermuta(Diccionario, Diccionario.get(Valor),TuplaFinal)\n",
    "        else:\n",
    "            arryfinal.append(TuplaFinal)\n",
    "\n",
    "def DefinirAutomorfismo(Diccionario2):\n",
    "    newDiccionario = {}\n",
    "    for a in arrayaristas2:\n",
    "        Tupla = arrayaristas.get(a)\n",
    "        Pos1 = Diccionario2.get(Tupla[0])\n",
    "        Pos2 = Diccionario2.get(Tupla[1])\n",
    "\n",
    "        TuplaFinal = (Pos1,Pos2)\n",
    "        r = sorted(TuplaFinal,reverse=False)\n",
    "        tuplar = (r[0],r[1])\n",
    "        newDiccionario.setdefault(int(r[0]+r[1]),tuplar)\n",
    "    if newDiccionario == arrayaristas2:\n",
    "        return 1\n",
    "    else:\n",
    "        return 0"
   ]
  },
  {
   "cell_type": "markdown",
   "source": [
    "El grupo de automorfismo del grafo T1 es:"
   ],
   "metadata": {
    "collapsed": false,
    "pycharm": {
     "name": "#%% md\n"
    }
   }
  },
  {
   "cell_type": "code",
   "execution_count": 94,
   "outputs": [
    {
     "name": "stdout",
     "output_type": "stream",
     "text": [
      "['e']\n",
      "[['1', '2']]\n",
      "[['1', '5'], ['2', '6'], ['3', '4']]\n",
      "[['1', '5', '2', '6'], ['3', '4']]\n",
      "[['5', '6']]\n",
      "[['1', '2'], ['5', '6']]\n",
      "[['1', '6', '2', '5'], ['3', '4']]\n",
      "[['1', '6'], ['2', '5'], ['3', '4']]\n"
     ]
    }
   ],
   "source": [
    "for c in Permutaciones:\n",
    "    DiccionarioFlag = {}\n",
    "    for a in arrayvertices:\n",
    "        DiccionarioFlag.setdefault(a, False)\n",
    "    tuplaciclo = []\n",
    "    arryfinal = []\n",
    "    b = CompararCadenas(arrayvertices, c)\n",
    "    t = DefinirAutomorfismo(b)\n",
    "    if t == 1:\n",
    "        if len(arryfinal)==0:\n",
    "            arryfinal.append(\"e\")\n",
    "        print(arryfinal)\n"
   ],
   "metadata": {
    "collapsed": false,
    "pycharm": {
     "name": "#%%\n"
    }
   }
  }
 ],
 "metadata": {
  "kernelspec": {
   "name": "python3",
   "language": "python",
   "display_name": "Python 3"
  },
  "language_info": {
   "codemirror_mode": {
    "name": "ipython",
    "version": 3
   },
   "file_extension": ".py",
   "mimetype": "text/x-python",
   "name": "python",
   "nbconvert_exporter": "python",
   "pygments_lexer": "ipython3",
   "version": "3.7.6"
  }
 },
 "nbformat": 4,
 "nbformat_minor": 1
}